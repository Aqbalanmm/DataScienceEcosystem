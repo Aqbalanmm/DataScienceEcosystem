{
 "cells": [
  {
   "cell_type": "markdown",
   "id": "d0a14085-8df6-449c-bf56-467eb94b7edb",
   "metadata": {},
   "source": [
    "Data Science Tools and Ecosystem"
   ]
  },
  {
   "cell_type": "markdown",
   "id": "ea37cf4e-7e2a-4195-ba16-068cb88d5d66",
   "metadata": {},
   "source": [
    "In this notebook, Data Science Tools and Ecosystem are summarized."
   ]
  },
  {
   "cell_type": "markdown",
   "id": "1f8b58fa-289d-4797-8bd2-c6260c1c9c9e",
   "metadata": {},
   "source": [
    "**Objectives:**\n",
    "\n",
    "- List popular languages for Data Science  \n",
    "- Identify commonly used libraries in Data Science  \n",
    "- Demonstrate use of markdown to create tables and lists  \n",
    "- Evaluate arithmetic expressions using Python code  \n",
    "- Convert time units (e.g., minutes to hours) with simple calculations  \n"
   ]
  },
  {
   "cell_type": "markdown",
   "id": "9d930bb9-82cf-4609-b168-b83d6314586d",
   "metadata": {},
   "source": [
    "Some of the popular languages that Data Scientists use are: \n",
    "\n",
    "1. Python\n",
    "2. Java\n",
    "3. R\n"
   ]
  },
  {
   "cell_type": "markdown",
   "id": "c7bba0b3-43bf-42b5-a4d4-dd5062dcf4c6",
   "metadata": {},
   "source": [
    "Some of the commonly used libraries used by Data Scientists include:\n",
    "\n",
    "1. NumPy  \n",
    "2. Pandas  \n",
    "3. Matplotlib  \n",
    "4. Scikit-learn  \n",
    "5. TensorFlow  \n"
   ]
  },
  {
   "cell_type": "markdown",
   "id": "791015b9-5240-41c3-9a9a-fd6aaf8bb457",
   "metadata": {},
   "source": [
    "| Data Science Tools  |\n",
    "|---------------------|\n",
    "| Jupyter Notebook    |\n",
    "| RStudio             |\n",
    "| Apache Zeppelin     |\n"
   ]
  },
  {
   "cell_type": "code",
   "execution_count": 18,
   "id": "0fe4d6fa-fb8b-4a56-934a-99ec295f1403",
   "metadata": {},
   "outputs": [],
   "source": [
    "### Below are a few examples of evaluating arithmetic expressions in Python.\n"
   ]
  },
  {
   "cell_type": "code",
   "execution_count": 19,
   "id": "5c9ac010-ed2f-40b6-b079-1a102c15440f",
   "metadata": {},
   "outputs": [],
   "source": [
    "#This a simple arithmetic expression to mutiply then add integers"
   ]
  },
  {
   "cell_type": "code",
   "execution_count": 20,
   "id": "47cecfb0-0731-4fa5-b4ab-a0f17c2b9153",
   "metadata": {},
   "outputs": [
    {
     "data": {
      "text/plain": [
       "17"
      ]
     },
     "execution_count": 20,
     "metadata": {},
     "output_type": "execute_result"
    }
   ],
   "source": [
    "(3*4)+5"
   ]
  },
  {
   "cell_type": "code",
   "execution_count": 21,
   "id": "47c6256f-707e-4c33-80a0-e973e3257842",
   "metadata": {},
   "outputs": [],
   "source": [
    "#This will convert 200 minutes to hours by diving by 60"
   ]
  },
  {
   "cell_type": "code",
   "execution_count": 22,
   "id": "2c78caba-7070-4c0a-a2d7-a6b35f5f93a2",
   "metadata": {},
   "outputs": [
    {
     "data": {
      "text/plain": [
       "3.3333333333333335"
      ]
     },
     "execution_count": 22,
     "metadata": {},
     "output_type": "execute_result"
    }
   ],
   "source": [
    "200/60"
   ]
  },
  {
   "cell_type": "markdown",
   "id": "6a04e229-5525-427c-be42-9908e18d230b",
   "metadata": {},
   "source": [
    "## Author\n",
    "\n",
    "Muhammad Aqbala Nur Mustofa Manaf\n"
   ]
  },
  {
   "cell_type": "code",
   "execution_count": null,
   "id": "bcd8b9cc-c255-474a-afc1-66febd91d4e0",
   "metadata": {},
   "outputs": [],
   "source": []
  }
 ],
 "metadata": {
  "kernelspec": {
   "display_name": "Python 3 (ipykernel)",
   "language": "python",
   "name": "python3"
  },
  "language_info": {
   "codemirror_mode": {
    "name": "ipython",
    "version": 3
   },
   "file_extension": ".py",
   "mimetype": "text/x-python",
   "name": "python",
   "nbconvert_exporter": "python",
   "pygments_lexer": "ipython3",
   "version": "3.12.9"
  }
 },
 "nbformat": 4,
 "nbformat_minor": 5
}
